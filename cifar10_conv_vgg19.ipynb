{
  "cells": [
    {
      "cell_type": "markdown",
      "metadata": {
        "id": "o864MAI5ncPH"
      },
      "source": [
        "# Instalar Julia"
      ]
    },
    {
      "cell_type": "code",
      "execution_count": 3,
      "metadata": {
        "id": "_4voqAvCnWlU",
        "colab": {
          "base_uri": "https://localhost:8080/"
        },
        "outputId": "b75180fd-dcd8-4216-ee92-83844d9e21b1"
      },
      "outputs": [
        {
          "output_type": "stream",
          "name": "stdout",
          "text": [
            "Installing Julia 1.9.1 on the current Colab Runtime...\n",
            "2023-06-19 19:44:12 URL:https://storage.googleapis.com/julialang2/bin/linux/x64/1.9/julia-1.9.1-linux-x86_64.tar.gz [146318973/146318973] -> \"/tmp/julia.tar.gz\" [1]\n",
            "Installing Julia package IJulia...\n",
            "Installing Julia package BenchmarkTools...\n",
            "Installing Julia package LinearAlgebra...\n",
            "Installing Julia package Statistics...\n",
            "Installing Julia package Flux...\n",
            "Installing Julia package MLDatasets...\n",
            "Installing Julia package BetaML...\n",
            "Installing Julia package Printf...\n",
            "Installing Julia package BSON...\n",
            "Installing Julia package CUDA...\n",
            "Installing IJulia kernel...\n",
            "\u001b[36m\u001b[1m[ \u001b[22m\u001b[39m\u001b[36m\u001b[1mInfo: \u001b[22m\u001b[39mInstalling julia kernelspec in /root/.local/share/jupyter/kernels/julia-1.9\n",
            "\n",
            "Successfully installed julia version 1.9.1!\n",
            "Please reload this page (press Ctrl+R, ⌘+R, or the F5 key) then\n",
            "jump to the 'Checking the Installation' section.\n"
          ]
        },
        {
          "output_type": "execute_result",
          "data": {
            "text/plain": []
          },
          "metadata": {},
          "execution_count": 3
        }
      ],
      "source": [
        "%%shell\n",
        "set -e\n",
        "\n",
        "#---------------------------------------------------#\n",
        "JULIA_VERSION=\"1.9.1\" # any version ≥ 0.7.0\n",
        "JULIA_PACKAGES=\"IJulia BenchmarkTools LinearAlgebra Statistics Flux MLDatasets BetaML Printf BSON\"\n",
        "JULIA_PACKAGES_IF_GPU=\"CUDA\" # or CuArrays for older Julia versions\n",
        "JULIA_NUM_THREADS=2\n",
        "#---------------------------------------------------#\n",
        "\n",
        "if [ -z `which julia` ]; then\n",
        "  # Install Julia\n",
        "  JULIA_VER=`cut -d '.' -f -2 <<< \"$JULIA_VERSION\"`\n",
        "  echo \"Installing Julia $JULIA_VERSION on the current Colab Runtime...\"\n",
        "  BASE_URL=\"https://julialang-s3.julialang.org/bin/linux/x64\"\n",
        "  URL=\"$BASE_URL/$JULIA_VER/julia-$JULIA_VERSION-linux-x86_64.tar.gz\"\n",
        "  wget -nv $URL -O /tmp/julia.tar.gz # -nv means \"not verbose\"\n",
        "  tar -x -f /tmp/julia.tar.gz -C /usr/local --strip-components 1\n",
        "  rm /tmp/julia.tar.gz\n",
        "\n",
        "  # Install Packages\n",
        "  nvidia-smi -L &> /dev/null && export GPU=1 || export GPU=0\n",
        "  if [ $GPU -eq 1 ]; then\n",
        "    JULIA_PACKAGES=\"$JULIA_PACKAGES $JULIA_PACKAGES_IF_GPU\"\n",
        "  fi\n",
        "  for PKG in `echo $JULIA_PACKAGES`; do\n",
        "    echo \"Installing Julia package $PKG...\"\n",
        "    julia -e 'using Pkg; pkg\"add '$PKG'; precompile;\"' &> /dev/null\n",
        "  done\n",
        "\n",
        "  # Install kernel and rename it to \"julia\"\n",
        "  echo \"Installing IJulia kernel...\"\n",
        "  julia -e 'using IJulia; IJulia.installkernel(\"julia\", env=Dict(\n",
        "      \"JULIA_NUM_THREADS\"=>\"'\"$JULIA_NUM_THREADS\"'\"))'\n",
        "  KERNEL_DIR=`julia -e \"using IJulia; print(IJulia.kerneldir())\"`\n",
        "  KERNEL_NAME=`ls -d \"$KERNEL_DIR\"/julia*`\n",
        "  mv -f $KERNEL_NAME \"$KERNEL_DIR\"/julia\n",
        "\n",
        "  echo ''\n",
        "  echo \"Successfully installed `julia -v`!\"\n",
        "  echo \"Please reload this page (press Ctrl+R, ⌘+R, or the F5 key) then\"\n",
        "  echo \"jump to the 'Checking the Installation' section.\"\n",
        "fi"
      ]
    },
    {
      "cell_type": "markdown",
      "metadata": {
        "id": "SLfFMVaDnhE6"
      },
      "source": [
        "# Codigo de treinamento"
      ]
    },
    {
      "cell_type": "code",
      "source": [
        "using LinearAlgebra, Statistics, Flux, MLDatasets, CUDA\n",
        "using BetaML: ConfusionMatrix, fit!, info\n",
        "using Printf, BSON"
      ],
      "metadata": {
        "id": "cgQGpdmSQvn3"
      },
      "execution_count": 46,
      "outputs": []
    },
    {
      "cell_type": "code",
      "source": [
        "# Treino\n",
        "class_names = MLDatasets.CIFAR10().metadata[\"class_names\"]\n",
        "x_treino, y_treino = MLDatasets.CIFAR10(Float32, split=:train)[:] |> gpu\n",
        "\n",
        "média_x_treino = mean(x_treino);\n",
        "desvio_x_treino = std(x_treino);\n",
        "x_treino = (x_treino .- média_x_treino) ./ desvio_x_treino;\n",
        "y_treino = Flux.onehotbatch(y_treino, 0:9)\n",
        "dados_treino = Flux.Data.DataLoader((x_treino, y_treino), batchsize=128)"
      ],
      "metadata": {
        "colab": {
          "base_uri": "https://localhost:8080/"
        },
        "id": "e1DZwQtvQzbo",
        "outputId": "4f9d9851-2140-4e01-9f6d-3b7ae02686e7"
      },
      "execution_count": 47,
      "outputs": [
        {
          "output_type": "execute_result",
          "data": {
            "text/plain": [
              "391-element DataLoader(::Tuple{CuArray{Float32, 4, CUDA.Mem.DeviceBuffer}, OneHotArrays.OneHotMatrix{UInt32, CuArray{UInt32, 1, CUDA.Mem.DeviceBuffer}}}, batchsize=128)\n",
              "  with first element:\n",
              "  (32×32×3×128 CuArray{Float32, 4, CUDA.Mem.DeviceBuffer}, 10×128 OneHotMatrix(::CuArray{UInt32, 1, CUDA.Mem.DeviceBuffer}) with eltype Bool,)"
            ]
          },
          "metadata": {},
          "execution_count": 47
        }
      ]
    },
    {
      "cell_type": "code",
      "source": [
        "# Teste\n",
        "x_teste, y_teste = MLDatasets.CIFAR10(Float32, split=:test)[:] |> gpu\n",
        "\n",
        "média_x_teste = mean(x_teste);\n",
        "desvio_x_teste = std(x_teste);\n",
        "x_teste = (x_teste .- média_x_teste) ./ desvio_x_teste;\n",
        "\n",
        "y_teste = Flux.onehotbatch(y_teste, 0:9)\n"
      ],
      "metadata": {
        "colab": {
          "base_uri": "https://localhost:8080/"
        },
        "id": "8ws32QGnQ1SF",
        "outputId": "ac8e1eb1-3db9-48c4-83c9-8e734dae66f7"
      },
      "execution_count": 48,
      "outputs": [
        {
          "output_type": "execute_result",
          "data": {
            "text/plain": [
              "10×10000 OneHotMatrix(::CuArray{UInt32, 1, CUDA.Mem.DeviceBuffer}) with eltype Bool:\n",
              " ⋅  ⋅  ⋅  1  ⋅  ⋅  ⋅  ⋅  ⋅  ⋅  1  ⋅  ⋅  …  ⋅  ⋅  ⋅  1  ⋅  ⋅  ⋅  ⋅  ⋅  ⋅  ⋅  ⋅\n",
              " ⋅  ⋅  ⋅  ⋅  ⋅  ⋅  1  ⋅  ⋅  1  ⋅  ⋅  ⋅     ⋅  ⋅  ⋅  ⋅  ⋅  ⋅  ⋅  ⋅  ⋅  ⋅  1  ⋅\n",
              " ⋅  ⋅  ⋅  ⋅  ⋅  ⋅  ⋅  ⋅  ⋅  ⋅  ⋅  ⋅  ⋅     ⋅  1  ⋅  ⋅  ⋅  ⋅  ⋅  ⋅  ⋅  ⋅  ⋅  ⋅\n",
              " 1  ⋅  ⋅  ⋅  ⋅  ⋅  ⋅  ⋅  1  ⋅  ⋅  ⋅  ⋅     ⋅  ⋅  ⋅  ⋅  1  ⋅  1  ⋅  1  ⋅  ⋅  ⋅\n",
              " ⋅  ⋅  ⋅  ⋅  ⋅  ⋅  ⋅  ⋅  ⋅  ⋅  ⋅  ⋅  ⋅     ⋅  ⋅  ⋅  ⋅  ⋅  ⋅  ⋅  ⋅  ⋅  ⋅  ⋅  ⋅\n",
              " ⋅  ⋅  ⋅  ⋅  ⋅  ⋅  ⋅  ⋅  ⋅  ⋅  ⋅  ⋅  1  …  ⋅  ⋅  ⋅  ⋅  ⋅  1  ⋅  ⋅  ⋅  1  ⋅  ⋅\n",
              " ⋅  ⋅  ⋅  ⋅  1  1  ⋅  1  ⋅  ⋅  ⋅  ⋅  ⋅     ⋅  ⋅  ⋅  ⋅  ⋅  ⋅  ⋅  ⋅  ⋅  ⋅  ⋅  ⋅\n",
              " ⋅  ⋅  ⋅  ⋅  ⋅  ⋅  ⋅  ⋅  ⋅  ⋅  ⋅  ⋅  ⋅     ⋅  ⋅  1  ⋅  ⋅  ⋅  ⋅  ⋅  ⋅  ⋅  ⋅  1\n",
              " ⋅  1  1  ⋅  ⋅  ⋅  ⋅  ⋅  ⋅  ⋅  ⋅  ⋅  ⋅     1  ⋅  ⋅  ⋅  ⋅  ⋅  ⋅  1  ⋅  ⋅  ⋅  ⋅\n",
              " ⋅  ⋅  ⋅  ⋅  ⋅  ⋅  ⋅  ⋅  ⋅  ⋅  ⋅  1  ⋅     ⋅  ⋅  ⋅  ⋅  ⋅  ⋅  ⋅  ⋅  ⋅  ⋅  ⋅  ⋅"
            ]
          },
          "metadata": {},
          "execution_count": 48
        }
      ]
    },
    {
      "cell_type": "code",
      "execution_count": 49,
      "metadata": {
        "id": "bekvZY0knj_f",
        "colab": {
          "base_uri": "https://localhost:8080/"
        },
        "outputId": "8adce6c2-e638-4cae-c989-2d45eebeaf47"
      },
      "outputs": [
        {
          "output_type": "execute_result",
          "data": {
            "text/plain": [
              "Chain(\n",
              "  Conv((3, 3), 3 => 64, relu, pad=1),   \u001b[90m# 1_792 parameters\u001b[39m\n",
              "  BatchNorm(64),                        \u001b[90m# 128 parameters\u001b[39m\u001b[90m, plus 128\u001b[39m\n",
              "  Conv((3, 3), 64 => 64, relu, pad=1),  \u001b[90m# 36_928 parameters\u001b[39m\n",
              "  BatchNorm(64),                        \u001b[90m# 128 parameters\u001b[39m\u001b[90m, plus 128\u001b[39m\n",
              "  MaxPool((2, 2)),\n",
              "  Conv((3, 3), 64 => 128, relu, pad=1),  \u001b[90m# 73_856 parameters\u001b[39m\n",
              "  BatchNorm(128),                       \u001b[90m# 256 parameters\u001b[39m\u001b[90m, plus 256\u001b[39m\n",
              "  Conv((3, 3), 128 => 128, relu, pad=1),  \u001b[90m# 147_584 parameters\u001b[39m\n",
              "  BatchNorm(128),                       \u001b[90m# 256 parameters\u001b[39m\u001b[90m, plus 256\u001b[39m\n",
              "  MaxPool((2, 2)),\n",
              "  Conv((3, 3), 128 => 256, relu, pad=1),  \u001b[90m# 295_168 parameters\u001b[39m\n",
              "  BatchNorm(256),                       \u001b[90m# 512 parameters\u001b[39m\u001b[90m, plus 512\u001b[39m\n",
              "  Conv((3, 3), 256 => 256, relu, pad=1),  \u001b[90m# 590_080 parameters\u001b[39m\n",
              "  BatchNorm(256),                       \u001b[90m# 512 parameters\u001b[39m\u001b[90m, plus 512\u001b[39m\n",
              "  Conv((3, 3), 256 => 256, relu, pad=1),  \u001b[90m# 590_080 parameters\u001b[39m\n",
              "  BatchNorm(256),                       \u001b[90m# 512 parameters\u001b[39m\u001b[90m, plus 512\u001b[39m\n",
              "  Conv((3, 3), 256 => 256, relu, pad=1),  \u001b[90m# 590_080 parameters\u001b[39m\n",
              "  MaxPool((2, 2)),\n",
              "  Conv((3, 3), 256 => 512, relu, pad=1),  \u001b[90m# 1_180_160 parameters\u001b[39m\n",
              "  BatchNorm(512),                       \u001b[90m# 1_024 parameters\u001b[39m\u001b[90m, plus 1_024\u001b[39m\n",
              "  Conv((3, 3), 512 => 512, relu, pad=1),  \u001b[90m# 2_359_808 parameters\u001b[39m\n",
              "  BatchNorm(512),                       \u001b[90m# 1_024 parameters\u001b[39m\u001b[90m, plus 1_024\u001b[39m\n",
              "  Conv((3, 3), 512 => 512, relu, pad=1),  \u001b[90m# 2_359_808 parameters\u001b[39m\n",
              "  BatchNorm(512),                       \u001b[90m# 1_024 parameters\u001b[39m\u001b[90m, plus 1_024\u001b[39m\n",
              "  Conv((3, 3), 512 => 512, relu, pad=1),  \u001b[90m# 2_359_808 parameters\u001b[39m\n",
              "  MaxPool((2, 2)),\n",
              "  Conv((3, 3), 512 => 512, relu, pad=1),  \u001b[90m# 2_359_808 parameters\u001b[39m\n",
              "  BatchNorm(512),                       \u001b[90m# 1_024 parameters\u001b[39m\u001b[90m, plus 1_024\u001b[39m\n",
              "  Conv((3, 3), 512 => 512, relu, pad=1),  \u001b[90m# 2_359_808 parameters\u001b[39m\n",
              "  BatchNorm(512),                       \u001b[90m# 1_024 parameters\u001b[39m\u001b[90m, plus 1_024\u001b[39m\n",
              "  Conv((3, 3), 512 => 512, relu, pad=1),  \u001b[90m# 2_359_808 parameters\u001b[39m\n",
              "  BatchNorm(512),                       \u001b[90m# 1_024 parameters\u001b[39m\u001b[90m, plus 1_024\u001b[39m\n",
              "  Conv((3, 3), 512 => 512, relu, pad=1),  \u001b[90m# 2_359_808 parameters\u001b[39m\n",
              "  MaxPool((2, 2)),\n",
              "  var\"#7#8\"(),\n",
              "  Dense(512 => 4096, relu),             \u001b[90m# 2_101_248 parameters\u001b[39m\n",
              "  Dropout(0.5),\n",
              "  Dense(4096 => 4096, relu),            \u001b[90m# 16_781_312 parameters\u001b[39m\n",
              "  Dropout(0.5),\n",
              "  Dense(4096 => 10),                    \u001b[90m# 40_970 parameters\u001b[39m\n",
              "  NNlib.softmax,\n",
              ") \u001b[90m        # Total: 64 trainable arrays, \u001b[39m38_956_362 parameters,\n",
              "\u001b[90m          # plus 26 non-trainable, 8_448 parameters, summarysize \u001b[39m15.398 KiB."
            ]
          },
          "metadata": {},
          "execution_count": 49
        }
      ],
      "source": [
        "modelo = Chain(\n",
        "    Conv((3, 3), 3 => 64, relu, pad=(1, 1), stride=(1, 1)),\n",
        "    BatchNorm(64),\n",
        "    Conv((3, 3), 64 => 64, relu, pad=(1, 1), stride=(1, 1)),\n",
        "    BatchNorm(64),\n",
        "    MaxPool((2,2)),\n",
        "    Conv((3, 3), 64 => 128, relu, pad=(1, 1), stride=(1, 1)),\n",
        "    BatchNorm(128),\n",
        "    Conv((3, 3), 128 => 128, relu, pad=(1, 1), stride=(1, 1)),\n",
        "    BatchNorm(128),\n",
        "    MaxPool((2,2)),\n",
        "    Conv((3, 3), 128 => 256, relu, pad=(1, 1), stride=(1, 1)),\n",
        "    BatchNorm(256),\n",
        "    Conv((3, 3), 256 => 256, relu, pad=(1, 1), stride=(1, 1)),\n",
        "    BatchNorm(256),\n",
        "    Conv((3, 3), 256 => 256, relu, pad=(1, 1), stride=(1, 1)),\n",
        "    BatchNorm(256),\n",
        "    Conv((3, 3), 256 => 256, relu, pad=(1, 1), stride=(1, 1)),\n",
        "    MaxPool((2,2)),\n",
        "    Conv((3, 3), 256 => 512, relu, pad=(1, 1), stride=(1, 1)),\n",
        "    BatchNorm(512),\n",
        "    Conv((3, 3), 512 => 512, relu, pad=(1, 1), stride=(1, 1)),\n",
        "    BatchNorm(512),\n",
        "    Conv((3, 3), 512 => 512, relu, pad=(1, 1), stride=(1, 1)),\n",
        "    BatchNorm(512),\n",
        "    Conv((3, 3), 512 => 512, relu, pad=(1, 1), stride=(1, 1)),\n",
        "    MaxPool((2,2)),\n",
        "    Conv((3, 3), 512 => 512, relu, pad=(1, 1), stride=(1, 1)),\n",
        "    BatchNorm(512),\n",
        "    Conv((3, 3), 512 => 512, relu, pad=(1, 1), stride=(1, 1)),\n",
        "    BatchNorm(512),\n",
        "    Conv((3, 3), 512 => 512, relu, pad=(1, 1), stride=(1, 1)),\n",
        "    BatchNorm(512),\n",
        "    Conv((3, 3), 512 => 512, relu, pad=(1, 1), stride=(1, 1)),\n",
        "    MaxPool((2,2)),\n",
        "    x -> reshape(x, :, size(x, 4)),\n",
        "    Dense(512, 4096, relu),\n",
        "    Dropout(0.5),\n",
        "    Dense(4096, 4096, relu),\n",
        "    Dropout(0.5),\n",
        "    Dense(4096, 10),\n",
        "    softmax) |> gpu"
      ]
    },
    {
      "cell_type": "code",
      "source": [
        "acuracia(ŷ, y) = (mean(Flux.onecold(ŷ) .== Flux.onecold(y)))\n",
        "perda(x, y) = Flux.crossentropy(modelo(x), y)\n",
        "\n",
        "opt = Flux.ADAM(0.001)\n",
        "ps = Flux.params(modelo)\n",
        "\n",
        "num_épocas = 25\n",
        "melhor_acu = 0\n",
        "última_melhoria = 0\n",
        "\n",
        "for época in 1:num_épocas\n",
        "   println(\"Época \", época)\n",
        "   Flux.train!(perda, ps, dados_treino, opt)\n",
        "\n",
        "   ŷteste = modelo(x_teste)\n",
        "   acu = acuracia(ŷteste, y_teste)\n",
        "\n",
        "   @info(@sprintf(\"[%d]: Acurácia nos testes: %.4f\", época, acu))\n",
        "\n",
        "   if acu >= melhor_acu\n",
        "      global melhor_acu = acu\n",
        "      global última_melhoria = época\n",
        "      let model = cpu(modelo)\n",
        "        BSON.@save \"./trained_model_cifar10.bson\" model\n",
        "      end\n",
        "   end\n",
        "   # Se a acurácia for muito boa, termine o treino\n",
        "   if acu >= 0.999\n",
        "      @info(\" -> Término prematuro: alcançamos uma acurácia de 99.9%\")\n",
        "      break\n",
        "   end\n",
        "\n",
        "   # Se não houve melhoria em 5 épocas, reduza a taxa de aprendizagem:\n",
        "   if época - última_melhoria >= 5 && opt.eta > 1e-6\n",
        "      opt.eta /= 10.0\n",
        "      @warn(\" -> Sem melhoria por enquanto, reduzindo a taxa de aprendizagem para $(opt.eta)!\")\n",
        "\n",
        "      # Após reduzir a taxa de aprendizagem, dê a ela umas poucas épocas para melhorar\n",
        "      última_melhoria = época\n",
        "   end\n",
        "\n",
        "   if época - última_melhoria >= 10\n",
        "      @warn(\" -> Consideramos que houve convergência.\")\n",
        "      break\n",
        "   end\n",
        "end\n"
      ],
      "metadata": {
        "colab": {
          "base_uri": "https://localhost:8080/"
        },
        "id": "ITA1aD7nQ5UH",
        "outputId": "b4c4b587-9415-4dff-b201-68effba617ac"
      },
      "execution_count": 50,
      "outputs": [
        {
          "output_type": "stream",
          "name": "stdout",
          "text": [
            "Época 1\n"
          ]
        },
        {
          "output_type": "stream",
          "name": "stderr",
          "text": [
            "\u001b[36m\u001b[1m[ \u001b[22m\u001b[39m\u001b[36m\u001b[1mInfo: \u001b[22m\u001b[39m[1]: Acurácia nos testes: 0.4503\n"
          ]
        },
        {
          "output_type": "stream",
          "name": "stdout",
          "text": [
            "Época 2\n"
          ]
        },
        {
          "output_type": "stream",
          "name": "stderr",
          "text": [
            "\u001b[36m\u001b[1m[ \u001b[22m\u001b[39m\u001b[36m\u001b[1mInfo: \u001b[22m\u001b[39m[2]: Acurácia nos testes: 0.5869\n"
          ]
        },
        {
          "output_type": "stream",
          "name": "stdout",
          "text": [
            "Época 3\n"
          ]
        },
        {
          "output_type": "stream",
          "name": "stderr",
          "text": [
            "\u001b[36m\u001b[1m[ \u001b[22m\u001b[39m\u001b[36m\u001b[1mInfo: \u001b[22m\u001b[39m[3]: Acurácia nos testes: 0.6537\n"
          ]
        },
        {
          "output_type": "stream",
          "name": "stdout",
          "text": [
            "Época 4\n"
          ]
        },
        {
          "output_type": "stream",
          "name": "stderr",
          "text": [
            "\u001b[36m\u001b[1m[ \u001b[22m\u001b[39m\u001b[36m\u001b[1mInfo: \u001b[22m\u001b[39m[4]: Acurácia nos testes: 0.6957\n"
          ]
        },
        {
          "output_type": "stream",
          "name": "stdout",
          "text": [
            "Época 5\n"
          ]
        },
        {
          "output_type": "stream",
          "name": "stderr",
          "text": [
            "\u001b[36m\u001b[1m[ \u001b[22m\u001b[39m\u001b[36m\u001b[1mInfo: \u001b[22m\u001b[39m[5]: Acurácia nos testes: 0.7543\n"
          ]
        },
        {
          "output_type": "stream",
          "name": "stdout",
          "text": [
            "Época 6\n"
          ]
        },
        {
          "output_type": "stream",
          "name": "stderr",
          "text": [
            "\u001b[36m\u001b[1m[ \u001b[22m\u001b[39m\u001b[36m\u001b[1mInfo: \u001b[22m\u001b[39m[6]: Acurácia nos testes: 0.7611\n"
          ]
        },
        {
          "output_type": "stream",
          "name": "stdout",
          "text": [
            "Época 7\n",
            "Época 8\n"
          ]
        },
        {
          "output_type": "stream",
          "name": "stderr",
          "text": [
            "\u001b[36m\u001b[1m[ \u001b[22m\u001b[39m\u001b[36m\u001b[1mInfo: \u001b[22m\u001b[39m[7]: Acurácia nos testes: 0.5549\n"
          ]
        },
        {
          "output_type": "stream",
          "name": "stdout",
          "text": [
            "Época 9\n"
          ]
        },
        {
          "output_type": "stream",
          "name": "stderr",
          "text": [
            "\u001b[36m\u001b[1m[ \u001b[22m\u001b[39m\u001b[36m\u001b[1mInfo: \u001b[22m\u001b[39m[8]: Acurácia nos testes: 0.7245\n",
            "\u001b[36m\u001b[1m[ \u001b[22m\u001b[39m\u001b[36m\u001b[1mInfo: \u001b[22m\u001b[39m[9]: Acurácia nos testes: 0.7688\n"
          ]
        },
        {
          "output_type": "stream",
          "name": "stdout",
          "text": [
            "Época 10\n"
          ]
        },
        {
          "output_type": "stream",
          "name": "stderr",
          "text": [
            "\u001b[36m\u001b[1m[ \u001b[22m\u001b[39m\u001b[36m\u001b[1mInfo: \u001b[22m\u001b[39m[10]: Acurácia nos testes: 0.7779\n"
          ]
        },
        {
          "output_type": "stream",
          "name": "stdout",
          "text": [
            "Época 11\n"
          ]
        },
        {
          "output_type": "stream",
          "name": "stderr",
          "text": [
            "\u001b[36m\u001b[1m[ \u001b[22m\u001b[39m\u001b[36m\u001b[1mInfo: \u001b[22m\u001b[39m[11]: Acurácia nos testes: 0.8093\n"
          ]
        },
        {
          "output_type": "stream",
          "name": "stdout",
          "text": [
            "Época 12\n"
          ]
        },
        {
          "output_type": "stream",
          "name": "stderr",
          "text": [
            "\u001b[36m\u001b[1m[ \u001b[22m\u001b[39m\u001b[36m\u001b[1mInfo: \u001b[22m\u001b[39m[12]: Acurácia nos testes: 0.8126\n"
          ]
        },
        {
          "output_type": "stream",
          "name": "stdout",
          "text": [
            "Época 13\n"
          ]
        },
        {
          "output_type": "stream",
          "name": "stderr",
          "text": [
            "\u001b[36m\u001b[1m[ \u001b[22m\u001b[39m\u001b[36m\u001b[1mInfo: \u001b[22m\u001b[39m[13]: Acurácia nos testes: 0.8167\n"
          ]
        },
        {
          "output_type": "stream",
          "name": "stdout",
          "text": [
            "Época 14\n",
            "Época 15\n"
          ]
        },
        {
          "output_type": "stream",
          "name": "stderr",
          "text": [
            "\u001b[36m\u001b[1m[ \u001b[22m\u001b[39m\u001b[36m\u001b[1mInfo: \u001b[22m\u001b[39m[14]: Acurácia nos testes: 0.8044\n",
            "\u001b[36m\u001b[1m[ \u001b[22m\u001b[39m\u001b[36m\u001b[1mInfo: \u001b[22m\u001b[39m[15]: Acurácia nos testes: 0.8172\n"
          ]
        },
        {
          "output_type": "stream",
          "name": "stdout",
          "text": [
            "Época 16\n"
          ]
        },
        {
          "output_type": "stream",
          "name": "stderr",
          "text": [
            "\u001b[36m\u001b[1m[ \u001b[22m\u001b[39m\u001b[36m\u001b[1mInfo: \u001b[22m\u001b[39m[16]: Acurácia nos testes: 0.8225\n"
          ]
        },
        {
          "output_type": "stream",
          "name": "stdout",
          "text": [
            "Época 17\n",
            "Época 18\n"
          ]
        },
        {
          "output_type": "stream",
          "name": "stderr",
          "text": [
            "\u001b[36m\u001b[1m[ \u001b[22m\u001b[39m\u001b[36m\u001b[1mInfo: \u001b[22m\u001b[39m[17]: Acurácia nos testes: 0.8143\n",
            "\u001b[36m\u001b[1m[ \u001b[22m\u001b[39m\u001b[36m\u001b[1mInfo: \u001b[22m\u001b[39m[18]: Acurácia nos testes: 0.8307\n"
          ]
        },
        {
          "output_type": "stream",
          "name": "stdout",
          "text": [
            "Época 19\n",
            "Época 20\n"
          ]
        },
        {
          "output_type": "stream",
          "name": "stderr",
          "text": [
            "\u001b[36m\u001b[1m[ \u001b[22m\u001b[39m\u001b[36m\u001b[1mInfo: \u001b[22m\u001b[39m[19]: Acurácia nos testes: 0.8224\n"
          ]
        },
        {
          "output_type": "stream",
          "name": "stdout",
          "text": [
            "Época 21\n"
          ]
        },
        {
          "output_type": "stream",
          "name": "stderr",
          "text": [
            "\u001b[36m\u001b[1m[ \u001b[22m\u001b[39m\u001b[36m\u001b[1mInfo: \u001b[22m\u001b[39m[20]: Acurácia nos testes: 0.8234\n"
          ]
        },
        {
          "output_type": "stream",
          "name": "stdout",
          "text": [
            "Época 22\n"
          ]
        },
        {
          "output_type": "stream",
          "name": "stderr",
          "text": [
            "\u001b[36m\u001b[1m[ \u001b[22m\u001b[39m\u001b[36m\u001b[1mInfo: \u001b[22m\u001b[39m[21]: Acurácia nos testes: 0.8303\n",
            "\u001b[36m\u001b[1m[ \u001b[22m\u001b[39m\u001b[36m\u001b[1mInfo: \u001b[22m\u001b[39m[22]: Acurácia nos testes: 0.8403\n"
          ]
        },
        {
          "output_type": "stream",
          "name": "stdout",
          "text": [
            "Época 23\n",
            "Época 24\n"
          ]
        },
        {
          "output_type": "stream",
          "name": "stderr",
          "text": [
            "\u001b[36m\u001b[1m[ \u001b[22m\u001b[39m\u001b[36m\u001b[1mInfo: \u001b[22m\u001b[39m[23]: Acurácia nos testes: 0.8379\n"
          ]
        },
        {
          "output_type": "stream",
          "name": "stdout",
          "text": [
            "Época 25\n"
          ]
        },
        {
          "output_type": "stream",
          "name": "stderr",
          "text": [
            "\u001b[36m\u001b[1m[ \u001b[22m\u001b[39m\u001b[36m\u001b[1mInfo: \u001b[22m\u001b[39m[24]: Acurácia nos testes: 0.8171\n",
            "\u001b[36m\u001b[1m[ \u001b[22m\u001b[39m\u001b[36m\u001b[1mInfo: \u001b[22m\u001b[39m[25]: Acurácia nos testes: 0.8335\n"
          ]
        }
      ]
    },
    {
      "cell_type": "markdown",
      "source": [
        "Salvando modelo"
      ],
      "metadata": {
        "id": "qWLNjzWZeeQ9"
      }
    },
    {
      "cell_type": "code",
      "source": [
        "let model = cpu(modelo)\n",
        "   BSON.@save \"./trained_model_cifar10.bson\" model\n",
        "end"
      ],
      "metadata": {
        "id": "m6i-ZeSnedZg"
      },
      "execution_count": 22,
      "outputs": []
    },
    {
      "cell_type": "markdown",
      "source": [
        "# Código de teste"
      ],
      "metadata": {
        "id": "ISXe-7-KT6jl"
      }
    },
    {
      "cell_type": "markdown",
      "source": [
        "Inserção bibliotecas"
      ],
      "metadata": {
        "id": "QSy2WzbHUtcL"
      }
    },
    {
      "cell_type": "code",
      "source": [
        "using LinearAlgebra, Statistics, Flux, MLDatasets, CUDA, Plots\n",
        "using BetaML: ConfusionMatrix, fit!, info\n",
        "using Printf, BSON\n"
      ],
      "metadata": {
        "id": "fCNqMheNUs77"
      },
      "execution_count": 71,
      "outputs": []
    },
    {
      "cell_type": "markdown",
      "source": [
        "Carregando o modelo"
      ],
      "metadata": {
        "id": "Wqe_A2XiUe4D"
      }
    },
    {
      "cell_type": "code",
      "source": [
        "BSON.@load \"trained_model_cifar10_84.bson\" model\n",
        "model = gpu(model)"
      ],
      "metadata": {
        "colab": {
          "base_uri": "https://localhost:8080/"
        },
        "id": "gelmD7HUUO6t",
        "outputId": "db937860-1069-4007-9739-caa93240c4db"
      },
      "execution_count": 72,
      "outputs": [
        {
          "output_type": "execute_result",
          "data": {
            "text/plain": [
              "Chain(\n",
              "  Conv((3, 3), 3 => 64, relu, pad=1),   \u001b[90m# 1_792 parameters\u001b[39m\n",
              "  BatchNorm(64),                        \u001b[90m# 128 parameters\u001b[39m\u001b[90m, plus 128\u001b[39m\n",
              "  Conv((3, 3), 64 => 64, relu, pad=1),  \u001b[90m# 36_928 parameters\u001b[39m\n",
              "  BatchNorm(64),                        \u001b[90m# 128 parameters\u001b[39m\u001b[90m, plus 128\u001b[39m\n",
              "  MaxPool((2, 2)),\n",
              "  Conv((3, 3), 64 => 128, relu, pad=1),  \u001b[90m# 73_856 parameters\u001b[39m\n",
              "  BatchNorm(128),                       \u001b[90m# 256 parameters\u001b[39m\u001b[90m, plus 256\u001b[39m\n",
              "  Conv((3, 3), 128 => 128, relu, pad=1),  \u001b[90m# 147_584 parameters\u001b[39m\n",
              "  BatchNorm(128),                       \u001b[90m# 256 parameters\u001b[39m\u001b[90m, plus 256\u001b[39m\n",
              "  MaxPool((2, 2)),\n",
              "  Conv((3, 3), 128 => 256, relu, pad=1),  \u001b[90m# 295_168 parameters\u001b[39m\n",
              "  BatchNorm(256),                       \u001b[90m# 512 parameters\u001b[39m\u001b[90m, plus 512\u001b[39m\n",
              "  Conv((3, 3), 256 => 256, relu, pad=1),  \u001b[90m# 590_080 parameters\u001b[39m\n",
              "  BatchNorm(256),                       \u001b[90m# 512 parameters\u001b[39m\u001b[90m, plus 512\u001b[39m\n",
              "  Conv((3, 3), 256 => 256, relu, pad=1),  \u001b[90m# 590_080 parameters\u001b[39m\n",
              "  BatchNorm(256),                       \u001b[90m# 512 parameters\u001b[39m\u001b[90m, plus 512\u001b[39m\n",
              "  Conv((3, 3), 256 => 256, relu, pad=1),  \u001b[90m# 590_080 parameters\u001b[39m\n",
              "  MaxPool((2, 2)),\n",
              "  Conv((3, 3), 256 => 512, relu, pad=1),  \u001b[90m# 1_180_160 parameters\u001b[39m\n",
              "  BatchNorm(512),                       \u001b[90m# 1_024 parameters\u001b[39m\u001b[90m, plus 1_024\u001b[39m\n",
              "  Conv((3, 3), 512 => 512, relu, pad=1),  \u001b[90m# 2_359_808 parameters\u001b[39m\n",
              "  BatchNorm(512),                       \u001b[90m# 1_024 parameters\u001b[39m\u001b[90m, plus 1_024\u001b[39m\n",
              "  Conv((3, 3), 512 => 512, relu, pad=1),  \u001b[90m# 2_359_808 parameters\u001b[39m\n",
              "  BatchNorm(512),                       \u001b[90m# 1_024 parameters\u001b[39m\u001b[90m, plus 1_024\u001b[39m\n",
              "  Conv((3, 3), 512 => 512, relu, pad=1),  \u001b[90m# 2_359_808 parameters\u001b[39m\n",
              "  MaxPool((2, 2)),\n",
              "  Conv((3, 3), 512 => 512, relu, pad=1),  \u001b[90m# 2_359_808 parameters\u001b[39m\n",
              "  BatchNorm(512),                       \u001b[90m# 1_024 parameters\u001b[39m\u001b[90m, plus 1_024\u001b[39m\n",
              "  Conv((3, 3), 512 => 512, relu, pad=1),  \u001b[90m# 2_359_808 parameters\u001b[39m\n",
              "  BatchNorm(512),                       \u001b[90m# 1_024 parameters\u001b[39m\u001b[90m, plus 1_024\u001b[39m\n",
              "  Conv((3, 3), 512 => 512, relu, pad=1),  \u001b[90m# 2_359_808 parameters\u001b[39m\n",
              "  BatchNorm(512),                       \u001b[90m# 1_024 parameters\u001b[39m\u001b[90m, plus 1_024\u001b[39m\n",
              "  Conv((3, 3), 512 => 512, relu, pad=1),  \u001b[90m# 2_359_808 parameters\u001b[39m\n",
              "  MaxPool((2, 2)),\n",
              "  BSON.__deserialized_types__.var\"##3076\"(),\n",
              "  Dense(512 => 4096, relu),             \u001b[90m# 2_101_248 parameters\u001b[39m\n",
              "  Dropout(0.5),\n",
              "  Dense(4096 => 4096, relu),            \u001b[90m# 16_781_312 parameters\u001b[39m\n",
              "  Dropout(0.5),\n",
              "  Dense(4096 => 10),                    \u001b[90m# 40_970 parameters\u001b[39m\n",
              "  NNlib.softmax,\n",
              ") \u001b[90m        # Total: 64 trainable arrays, \u001b[39m38_956_362 parameters,\n",
              "\u001b[90m          # plus 26 non-trainable, 8_448 parameters, summarysize \u001b[39m15.398 KiB."
            ]
          },
          "metadata": {},
          "execution_count": 72
        }
      ]
    },
    {
      "cell_type": "markdown",
      "source": [
        "Importação dos dados de teste"
      ],
      "metadata": {
        "id": "t0NJFZndVFa1"
      }
    },
    {
      "cell_type": "code",
      "source": [
        "x_teste, y_teste = MLDatasets.CIFAR10(Float32, split=:test)[:] |> gpu\n",
        "\n",
        "média_x_teste = mean(x_teste);\n",
        "desvio_x_teste = std(x_teste);\n",
        "x_teste = (x_teste .- média_x_teste) ./ desvio_x_teste;\n",
        "\n",
        "y_teste = Flux.onehotbatch(y_teste, 0:9)"
      ],
      "metadata": {
        "colab": {
          "base_uri": "https://localhost:8080/"
        },
        "id": "_1-r1D6qVKdx",
        "outputId": "87ec1bbb-77c5-49e7-c64f-c59422b0797f"
      },
      "execution_count": 73,
      "outputs": [
        {
          "output_type": "execute_result",
          "data": {
            "text/plain": [
              "10×10000 OneHotMatrix(::CuArray{UInt32, 1, CUDA.Mem.DeviceBuffer}) with eltype Bool:\n",
              " ⋅  ⋅  ⋅  1  ⋅  ⋅  ⋅  ⋅  ⋅  ⋅  1  ⋅  ⋅  …  ⋅  ⋅  ⋅  1  ⋅  ⋅  ⋅  ⋅  ⋅  ⋅  ⋅  ⋅\n",
              " ⋅  ⋅  ⋅  ⋅  ⋅  ⋅  1  ⋅  ⋅  1  ⋅  ⋅  ⋅     ⋅  ⋅  ⋅  ⋅  ⋅  ⋅  ⋅  ⋅  ⋅  ⋅  1  ⋅\n",
              " ⋅  ⋅  ⋅  ⋅  ⋅  ⋅  ⋅  ⋅  ⋅  ⋅  ⋅  ⋅  ⋅     ⋅  1  ⋅  ⋅  ⋅  ⋅  ⋅  ⋅  ⋅  ⋅  ⋅  ⋅\n",
              " 1  ⋅  ⋅  ⋅  ⋅  ⋅  ⋅  ⋅  1  ⋅  ⋅  ⋅  ⋅     ⋅  ⋅  ⋅  ⋅  1  ⋅  1  ⋅  1  ⋅  ⋅  ⋅\n",
              " ⋅  ⋅  ⋅  ⋅  ⋅  ⋅  ⋅  ⋅  ⋅  ⋅  ⋅  ⋅  ⋅     ⋅  ⋅  ⋅  ⋅  ⋅  ⋅  ⋅  ⋅  ⋅  ⋅  ⋅  ⋅\n",
              " ⋅  ⋅  ⋅  ⋅  ⋅  ⋅  ⋅  ⋅  ⋅  ⋅  ⋅  ⋅  1  …  ⋅  ⋅  ⋅  ⋅  ⋅  1  ⋅  ⋅  ⋅  1  ⋅  ⋅\n",
              " ⋅  ⋅  ⋅  ⋅  1  1  ⋅  1  ⋅  ⋅  ⋅  ⋅  ⋅     ⋅  ⋅  ⋅  ⋅  ⋅  ⋅  ⋅  ⋅  ⋅  ⋅  ⋅  ⋅\n",
              " ⋅  ⋅  ⋅  ⋅  ⋅  ⋅  ⋅  ⋅  ⋅  ⋅  ⋅  ⋅  ⋅     ⋅  ⋅  1  ⋅  ⋅  ⋅  ⋅  ⋅  ⋅  ⋅  ⋅  1\n",
              " ⋅  1  1  ⋅  ⋅  ⋅  ⋅  ⋅  ⋅  ⋅  ⋅  ⋅  ⋅     1  ⋅  ⋅  ⋅  ⋅  ⋅  ⋅  1  ⋅  ⋅  ⋅  ⋅\n",
              " ⋅  ⋅  ⋅  ⋅  ⋅  ⋅  ⋅  ⋅  ⋅  ⋅  ⋅  1  ⋅     ⋅  ⋅  ⋅  ⋅  ⋅  ⋅  ⋅  ⋅  ⋅  ⋅  ⋅  ⋅"
            ]
          },
          "metadata": {},
          "execution_count": 73
        }
      ]
    },
    {
      "cell_type": "markdown",
      "source": [
        "Gerando resultados do modelo a partir do conjunto de teste"
      ],
      "metadata": {
        "id": "3fes0Wi0WJPK"
      }
    },
    {
      "cell_type": "code",
      "source": [
        "ŷteste = model(x_teste)"
      ],
      "metadata": {
        "colab": {
          "base_uri": "https://localhost:8080/"
        },
        "id": "DDBDWpvBWOWQ",
        "outputId": "6de15f47-df6c-40f0-8bce-7b07058b191c"
      },
      "execution_count": 74,
      "outputs": [
        {
          "output_type": "execute_result",
          "data": {
            "text/plain": [
              "10×10000 CuArray{Float32, 2, CUDA.Mem.DeviceBuffer}:\n",
              " 6.1851f-7    1.61264f-8   2.96337f-6   …  1.02626f-6   4.70587f-5\n",
              " 3.16248f-5   1.16897f-8   2.86224f-6      0.999268     5.28019f-8\n",
              " 7.79362f-6   1.92657f-11  4.26394f-8      1.89553f-6   9.08237f-8\n",
              " 0.999371     1.00164f-10  1.83916f-7      6.26037f-6   5.02272f-7\n",
              " 5.69323f-6   2.1314f-14   1.94209f-10     5.9294f-8    3.17409f-5\n",
              " 0.000336017  1.10352f-14  1.86078f-10  …  9.69723f-8   8.85045f-5\n",
              " 0.000233968  1.26272f-9   7.63559f-7      0.000133866  2.12293f-8\n",
              " 1.46871f-6   5.97474f-15  9.36679f-11     6.93533f-9   0.999819\n",
              " 6.24199f-6   1.0          0.999993        0.000134117  2.21752f-8\n",
              " 6.03918f-6   1.85024f-10  1.10258f-7      0.000455062  1.30878f-5"
            ]
          },
          "metadata": {},
          "execution_count": 74
        }
      ]
    },
    {
      "cell_type": "markdown",
      "source": [
        "Matriz de confusão\n"
      ],
      "metadata": {
        "id": "o8XcDpHTWCW0"
      }
    },
    {
      "cell_type": "code",
      "source": [
        "cm = ConfusionMatrix()\n",
        "fit!(cm, Flux.onecold(y_teste) .- 1, Flux.onecold(ŷteste) .- 1)\n",
        "print(cm)\n",
        "\n",
        "info(cm)"
      ],
      "metadata": {
        "colab": {
          "base_uri": "https://localhost:8080/"
        },
        "id": "cwHPJj1JWEW3",
        "outputId": "08109982-5eef-4e39-ddd8-7464844cd224"
      },
      "execution_count": 75,
      "outputs": [
        {
          "output_type": "stream",
          "name": "stdout",
          "text": [
            "A ConfusionMatrix BetaMLModel (fitted)\n",
            "\n",
            "-----------------------------------------------------------------\n",
            "\n",
            "*** CONFUSION MATRIX ***\n",
            "\n",
            "Scores actual (rows) vs predicted (columns):\n",
            "\n",
            "11×11 Matrix{Any}:\n",
            " \"Labels\"     \"3\"     \"8\"     \"0\"     \"6\"     \"1\"     \"9\"     \"5\"     \"7\"     \"4\"     \"2\"\n",
            " \"3\"       716      19      14      54       3       7      69      14      51      53\n",
            " \"8\"        10     925      35       2       6      18       1       0       0       3\n",
            " \"0\"         8      62     872       1       1      24       0       2      13      17\n",
            " \"6\"        36      15       7     874       1       0       2       4      15      46\n",
            " \"1\"         2      30       6       2     905      53       1       1       0       0\n",
            " \"9\"         6      28      19       1      32     910       1       2       0       1\n",
            " \"5\"       165       9       3      13       0       1     714      21      44      30\n",
            " \"7\"        29       6      24       2       0       3      27     859      42       8\n",
            " \"4\"        27       2       9      13       0       1       9      21     864      54\n",
            " \"2\"        43      20      60      29       0       3      11       9      61     764\n",
            "Normalised scores actual (rows) vs predicted (columns):\n",
            "\n",
            "11×11 Matrix{Any}:\n",
            " \"Labels\"   \"3\"    \"8\"    \"0\"    \"6\"    \"1\"    \"9\"    \"5\"    \"7\"    \"4\"    \"2\"\n",
            " \"3\"       0.716  0.019  0.014  0.054  0.003  0.007  0.069  0.014  0.051  0.053\n",
            " \"8\"       0.01   0.925  0.035  0.002  0.006  0.018  0.001  0.0    0.0    0.003\n",
            " \"0\"       0.008  0.062  0.872  0.001  0.001  0.024  0.0    0.002  0.013  0.017\n",
            " \"6\"       0.036  0.015  0.007  0.874  0.001  0.0    0.002  0.004  0.015  0.046\n",
            " \"1\"       0.002  0.03   0.006  0.002  0.905  0.053  0.001  0.001  0.0    0.0\n",
            " \"9\"       0.006  0.028  0.019  0.001  0.032  0.91   0.001  0.002  0.0    0.001\n",
            " \"5\"       0.165  0.009  0.003  0.013  0.0    0.001  0.714  0.021  0.044  0.03\n",
            " \"7\"       0.029  0.006  0.024  0.002  0.0    0.003  0.027  0.859  0.042  0.008\n",
            " \"4\"       0.027  0.002  0.009  0.013  0.0    0.001  0.009  0.021  0.864  0.054\n",
            " \"2\"       0.043  0.02   0.06   0.029  0.0    0.003  0.011  0.009  0.061  0.764\n",
            "\n",
            " *** CONFUSION REPORT ***\n",
            "\n",
            "- Accuracy:               0.8403\n",
            "- Misclassification rate: 0.15969999999999995\n",
            "- Number of classes:      10\n",
            "\n",
            "  N Class   precision   recall  specificity  f1score  actual_count  predicted_count\n",
            "                          TPR       TNR                 support                  \n",
            "\n",
            "  1 3           0.687    0.716        0.964    0.701         1000            1042\n",
            "  2 8           0.829    0.925        0.979    0.874         1000            1116\n",
            "  3 0           0.831    0.872        0.980    0.851         1000            1049\n",
            "  4 6           0.882    0.874        0.987    0.878         1000             991\n",
            "  5 1           0.955    0.905        0.995    0.929         1000             948\n",
            "  6 9           0.892    0.910        0.988    0.901         1000            1020\n",
            "  7 5           0.855    0.714        0.987    0.778         1000             835\n",
            "  8 7           0.921    0.859        0.992    0.889         1000             933\n",
            "  9 4           0.793    0.864        0.975    0.827         1000            1090\n",
            " 10 2           0.783    0.764        0.976    0.773         1000             976\n",
            "\n",
            "- Simple   avg.    0.843    0.840        0.982    0.840\n",
            "- Weigthed avg.    0.843    0.840        0.982    0.840\n",
            "\n",
            "-----------------------------------------------------------------\n",
            "Output of `info(cm)`:\n",
            "- mean_precision:\t(0.8427219901147529, 0.8427219901147529)\n",
            "- fitted_records:\t10000\n",
            "- specificity:\t[0.9637777777777777, 0.9787777777777777, 0.9803333333333333, 0.987, 0.9952222222222222, 0.9877777777777778, 0.9865555555555555, 0.9917777777777778, 0.9748888888888889, 0.9764444444444444]\n",
            "- precision:\t[0.6871401151631478, 0.828853046594982, 0.8312678741658722, 0.8819374369323916, 0.9546413502109705, 0.8921568627450981, 0.8550898203592814, 0.9206859592711683, 0.7926605504587156, 0.7827868852459017]\n",
            "- misclassification:\t0.15969999999999995\n",
            "- mean_recall:\t(0.8403, 0.8403)\n",
            "- n_categories:\t10\n",
            "- normalised_scores:\t[0.716 0.019 0.014 0.054 0.003 0.007 0.069 0.014 0.051 0.053; 0.01 0.925 0.035 0.002 0.006 0.018 0.001 0.0 0.0 0.003; 0.008 0.062 0.872 0.001 0.001 0.024 0.0 0.002 0.013 0.017; 0.036 0.015 0.007 0.874 0.001 0.0 0.002 0.004 0.015 0.046; 0.002 0.03 0.006 0.002 0.905 0.053 0.001 0.001 0.0 0.0; 0.006 0.028 0.019 0.001 0.032 0.91 0.001 0.002 0.0 0.001; 0.165 0.009 0.003 0.013 0.0 0.001 0.714 0.021 0.044 0.03; 0.029 0.006 0.024 0.002 0.0 0.003 0.027 0.859 0.042 0.008; 0.027 0.002 0.009 0.013 0.0 0.001 0.009 0.021 0.864 0.054; 0.043 0.02 0.06 0.029 0.0 0.003 0.011 0.009 0.061 0.764]\n",
            "- tn:\t[8674, 8809, 8823, 8883, 8957, 8890, 8879, 8926, 8774, 8788]\n",
            "- mean_f1score:\t(0.8401859438160008, 0.8401859438160006)\n",
            "- actual_count:\t[1000, 1000, 1000, 1000, 1000, 1000, 1000, 1000, 1000, 1000]\n",
            "- accuracy:\t0.8403\n",
            "- recall:\t[0.716, 0.925, 0.872, 0.874, 0.905, 0.91, 0.714, 0.859, 0.864, 0.764]\n",
            "- f1score:\t[0.7012732615083251, 0.8742911153119093, 0.8511469009272816, 0.8779507785032646, 0.9291581108829569, 0.900990099009901, 0.7782016348773841, 0.8887739265390585, 0.8267942583732057, 0.7732793522267206]\n",
            "- mean_specificity:\t(0.9822555555555557, 0.9822555555555557)\n",
            "- predicted_count:\t[1042, 1116, 1049, 991, 948, 1020, 835, 933, 1090, 976]\n",
            "- scores:\t[716 19 14 54 3 7 69 14 51 53; 10 925 35 2 6 18 1 0 0 3; 8 62 872 1 1 24 0 2 13 17; 36 15 7 874 1 0 2 4 15 46; 2 30 6 2 905 53 1 1 0 0; 6 28 19 1 32 910 1 2 0 1; 165 9 3 13 0 1 714 21 44 30; 29 6 24 2 0 3 27 859 42 8; 27 2 9 13 0 1 9 21 864 54; 43 20 60 29 0 3 11 9 61 764]\n",
            "- tp:\t[716, 925, 872, 874, 905, 910, 714, 859, 864, 764]\n",
            "- fn:\t[284, 75, 128, 126, 95, 90, 286, 141, 136, 236]\n",
            "- categories:\t[3, 8, 0, 6, 1, 9, 5, 7, 4, 2]\n",
            "- fp:\t[326, 191, 177, 117, 43, 110, 121, 74, 226, 212]\n"
          ]
        },
        {
          "output_type": "execute_result",
          "data": {
            "text/plain": [
              "Dict{String, Any} with 21 entries:\n",
              "  \"mean_precision\"    => (0.842722, 0.842722)\n",
              "  \"fitted_records\"    => 10000\n",
              "  \"specificity\"       => [0.963778, 0.978778, 0.980333, 0.987, 0.995222, 0.9877…\n",
              "  \"precision\"         => [0.68714, 0.828853, 0.831268, 0.881937, 0.954641, 0.89…\n",
              "  \"misclassification\" => 0.1597\n",
              "  \"mean_recall\"       => (0.8403, 0.8403)\n",
              "  \"n_categories\"      => 10\n",
              "  \"normalised_scores\" => [0.716 0.019 … 0.051 0.053; 0.01 0.925 … 0.0 0.003; … …\n",
              "  \"tn\"                => [8674, 8809, 8823, 8883, 8957, 8890, 8879, 8926, 8774,…\n",
              "  \"mean_f1score\"      => (0.840186, 0.840186)\n",
              "  \"actual_count\"      => [1000, 1000, 1000, 1000, 1000, 1000, 1000, 1000, 1000,…\n",
              "  \"accuracy\"          => 0.8403\n",
              "  \"recall\"            => [0.716, 0.925, 0.872, 0.874, 0.905, 0.91, 0.714, 0.859…\n",
              "  \"f1score\"           => [0.701273, 0.874291, 0.851147, 0.877951, 0.929158, 0.9…\n",
              "  \"mean_specificity\"  => (0.982256, 0.982256)\n",
              "  \"predicted_count\"   => [1042, 1116, 1049, 991, 948, 1020, 835, 933, 1090, 976]\n",
              "  \"scores\"            => [716 19 … 51 53; 10 925 … 0 3; … ; 27 2 … 864 54; 43 2…\n",
              "  \"tp\"                => [716, 925, 872, 874, 905, 910, 714, 859, 864, 764]\n",
              "  \"fn\"                => [284, 75, 128, 126, 95, 90, 286, 141, 136, 236]\n",
              "  \"categories\"        => [3, 8, 0, 6, 1, 9, 5, 7, 4, 2]\n",
              "  \"fp\"                => [326, 191, 177, 117, 43, 110, 121, 74, 226, 212]"
            ]
          },
          "metadata": {},
          "execution_count": 75
        }
      ]
    }
  ],
  "metadata": {
    "colab": {
      "provenance": [],
      "gpuType": "T4"
    },
    "kernelspec": {
      "display_name": "julia 1.9.1",
      "name": "julia"
    },
    "accelerator": "GPU"
  },
  "nbformat": 4,
  "nbformat_minor": 0
}